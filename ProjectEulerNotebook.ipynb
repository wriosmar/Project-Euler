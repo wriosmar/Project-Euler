{
 "cells": [
  {
   "cell_type": "markdown",
   "metadata": {},
   "source": [
    "### Problem 1: Multiples of 3 and 5\n",
    "\n",
    "Find the sum of all multiples of 3 or 5 below the provided parameter value ```number```"
   ]
  },
  {
   "cell_type": "code",
   "execution_count": 1,
   "metadata": {},
   "outputs": [],
   "source": [
    "def multiplesOf3and5(number):\n",
    "    sum = 0\n",
    "    for i in range(number):\n",
    "        if (i % 3 == 0) or (i % 5 == 0):\n",
    "            sum = sum + i\n",
    "    return sum"
   ]
  },
  {
   "cell_type": "code",
   "execution_count": 2,
   "metadata": {},
   "outputs": [
    {
     "name": "stdout",
     "output_type": "stream",
     "text": [
      "89301183\n"
     ]
    }
   ],
   "source": [
    "print(multiplesOf3and5(19564))"
   ]
  },
  {
   "cell_type": "markdown",
   "metadata": {},
   "source": [
    "### Problem 2: Even Fibonacci Numbers\n",
    "\n",
    "By considering the terms in the Fibonnacci sequence whose values do not exceed ```n```, find the sum of the even valued terms. "
   ]
  },
  {
   "cell_type": "code",
   "execution_count": 3,
   "metadata": {},
   "outputs": [],
   "source": [
    "def fibotEvenSum(n):\n",
    "    evenSum = 2\n",
    "    a = 1\n",
    "    b = 2\n",
    "    while (a < n) and (b < n):\n",
    "        fibSum = a + b\n",
    "        a = b\n",
    "        b = fibSum\n",
    "\n",
    "        if fibSum % 2 == 0:\n",
    "            evenSum = evenSum + fibSum\n",
    "    return evenSum"
   ]
  },
  {
   "cell_type": "code",
   "execution_count": 4,
   "metadata": {},
   "outputs": [
    {
     "name": "stdout",
     "output_type": "stream",
     "text": [
      "4613732\n"
     ]
    }
   ],
   "source": [
    "print(fibotEvenSum(4000000))"
   ]
  },
  {
   "cell_type": "markdown",
   "metadata": {},
   "source": [
    "### Problem 3: Largest Prime Factor\n",
    "\n",
    "What is the largest prime factor of the given number?"
   ]
  },
  {
   "cell_type": "code",
   "execution_count": 5,
   "metadata": {},
   "outputs": [],
   "source": [
    "def largestPrimeFactor(number):\n",
    "    return True"
   ]
  }
 ],
 "metadata": {
  "kernelspec": {
   "display_name": "Python 3.8.10 64-bit",
   "language": "python",
   "name": "python3"
  },
  "language_info": {
   "codemirror_mode": {
    "name": "ipython",
    "version": 3
   },
   "file_extension": ".py",
   "mimetype": "text/x-python",
   "name": "python",
   "nbconvert_exporter": "python",
   "pygments_lexer": "ipython3",
   "version": "3.8.10"
  },
  "orig_nbformat": 4,
  "vscode": {
   "interpreter": {
    "hash": "f8cd63ed76bf25d1560d8ac57caa3e4bbb16e798577baf54870de6476179f9a3"
   }
  }
 },
 "nbformat": 4,
 "nbformat_minor": 2
}
